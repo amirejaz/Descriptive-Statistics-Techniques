{
 "cells": [
  {
   "cell_type": "markdown",
   "id": "fe479aab",
   "metadata": {},
   "source": [
    "# Measure of spread :\n",
    "    1- Range*\n",
    "    2- Percentile\n",
    "    3- Quartiles\n",
    "    4- Inter quartile range*\n",
    "    5- variance*\n",
    "    6- standard deviation*"
   ]
  },
  {
   "cell_type": "code",
   "execution_count": 1,
   "id": "08e46bf1",
   "metadata": {},
   "outputs": [],
   "source": [
    "import numpy as np\n",
    "import matplotlib.pyplot as plt\n",
    "import seaborn as sns\n",
    "import pandas as pd"
   ]
  },
  {
   "cell_type": "code",
   "execution_count": 2,
   "id": "503a75b7",
   "metadata": {},
   "outputs": [],
   "source": [
    "data = pd.read_csv('Iris.csv')"
   ]
  },
  {
   "cell_type": "code",
   "execution_count": 3,
   "id": "85695771",
   "metadata": {
    "scrolled": true
   },
   "outputs": [
    {
     "data": {
      "text/html": [
       "<div>\n",
       "<style scoped>\n",
       "    .dataframe tbody tr th:only-of-type {\n",
       "        vertical-align: middle;\n",
       "    }\n",
       "\n",
       "    .dataframe tbody tr th {\n",
       "        vertical-align: top;\n",
       "    }\n",
       "\n",
       "    .dataframe thead th {\n",
       "        text-align: right;\n",
       "    }\n",
       "</style>\n",
       "<table border=\"1\" class=\"dataframe\">\n",
       "  <thead>\n",
       "    <tr style=\"text-align: right;\">\n",
       "      <th></th>\n",
       "      <th>Id</th>\n",
       "      <th>SP</th>\n",
       "      <th>SW</th>\n",
       "      <th>PL</th>\n",
       "      <th>PW</th>\n",
       "      <th>Species</th>\n",
       "    </tr>\n",
       "  </thead>\n",
       "  <tbody>\n",
       "    <tr>\n",
       "      <th>0</th>\n",
       "      <td>1</td>\n",
       "      <td>5.1</td>\n",
       "      <td>3.5</td>\n",
       "      <td>1.4</td>\n",
       "      <td>0.2</td>\n",
       "      <td>Iris-setosa</td>\n",
       "    </tr>\n",
       "    <tr>\n",
       "      <th>1</th>\n",
       "      <td>2</td>\n",
       "      <td>4.9</td>\n",
       "      <td>3.0</td>\n",
       "      <td>1.4</td>\n",
       "      <td>0.2</td>\n",
       "      <td>Iris-setosa</td>\n",
       "    </tr>\n",
       "    <tr>\n",
       "      <th>2</th>\n",
       "      <td>3</td>\n",
       "      <td>4.7</td>\n",
       "      <td>3.2</td>\n",
       "      <td>1.3</td>\n",
       "      <td>0.2</td>\n",
       "      <td>Iris-setosa</td>\n",
       "    </tr>\n",
       "    <tr>\n",
       "      <th>3</th>\n",
       "      <td>4</td>\n",
       "      <td>4.6</td>\n",
       "      <td>3.1</td>\n",
       "      <td>1.5</td>\n",
       "      <td>0.2</td>\n",
       "      <td>Iris-setosa</td>\n",
       "    </tr>\n",
       "    <tr>\n",
       "      <th>4</th>\n",
       "      <td>5</td>\n",
       "      <td>5.0</td>\n",
       "      <td>3.6</td>\n",
       "      <td>1.4</td>\n",
       "      <td>0.2</td>\n",
       "      <td>Iris-setosa</td>\n",
       "    </tr>\n",
       "  </tbody>\n",
       "</table>\n",
       "</div>"
      ],
      "text/plain": [
       "   Id   SP   SW   PL   PW      Species\n",
       "0   1  5.1  3.5  1.4  0.2  Iris-setosa\n",
       "1   2  4.9  3.0  1.4  0.2  Iris-setosa\n",
       "2   3  4.7  3.2  1.3  0.2  Iris-setosa\n",
       "3   4  4.6  3.1  1.5  0.2  Iris-setosa\n",
       "4   5  5.0  3.6  1.4  0.2  Iris-setosa"
      ]
     },
     "execution_count": 3,
     "metadata": {},
     "output_type": "execute_result"
    }
   ],
   "source": [
    "data.rename(columns={'SepalLengthCm':'SP', 'SepalWidthCm':'SW', 'PetalLengthCm':'PL', 'PetalWidthCm':'PW'}, inplace =True)\n",
    "data.head()"
   ]
  },
  {
   "cell_type": "code",
   "execution_count": 4,
   "id": "1720dcd3",
   "metadata": {},
   "outputs": [],
   "source": [
    "iris_setosa = data[data['Species']=='Iris-setosa']\n",
    "iris_virginica = data[data['Species']=='Iris-virginica']\n",
    "iris_versicolor = data[data['Species']=='Iris-versicolor']"
   ]
  },
  {
   "cell_type": "code",
   "execution_count": null,
   "id": "f723a1d0",
   "metadata": {},
   "outputs": [],
   "source": []
  },
  {
   "cell_type": "markdown",
   "id": "a0037384",
   "metadata": {},
   "source": [
    "# 1- Range"
   ]
  },
  {
   "cell_type": "code",
   "execution_count": 5,
   "id": "3fe8e810",
   "metadata": {},
   "outputs": [
    {
     "name": "stdout",
     "output_type": "stream",
     "text": [
      "The range of setosa length is:  0.8999999999999999\n"
     ]
    }
   ],
   "source": [
    "# Smallest point to a higher point\n",
    "R = np.max(iris_setosa['PL']) - np.min(iris_setosa['PL'])\n",
    "print(\"The range of setosa length is: \", R)"
   ]
  },
  {
   "cell_type": "markdown",
   "id": "c73f065a",
   "metadata": {},
   "source": [
    "# 2- Percentile"
   ]
  },
  {
   "cell_type": "code",
   "execution_count": 6,
   "id": "90101875",
   "metadata": {},
   "outputs": [],
   "source": [
    "# nth percentile is the value below which n% of the observation maybe found\n"
   ]
  },
  {
   "cell_type": "code",
   "execution_count": 7,
   "id": "8a38ecf7",
   "metadata": {},
   "outputs": [
    {
     "name": "stdout",
     "output_type": "stream",
     "text": [
      "3.0\n",
      "5.0\n",
      "8.2\n"
     ]
    }
   ],
   "source": [
    "mylist = [1,2,3,4,5,6,7,8,9]\n",
    "print(np.percentile(mylist, 25))\n",
    "print(np.percentile(mylist, 50))\n",
    "print(np.percentile(mylist, 90))"
   ]
  },
  {
   "cell_type": "code",
   "execution_count": 8,
   "id": "9a23e982",
   "metadata": {},
   "outputs": [
    {
     "data": {
      "text/plain": [
       "1.7"
      ]
     },
     "execution_count": 8,
     "metadata": {},
     "output_type": "execute_result"
    }
   ],
   "source": [
    "np.percentile(iris_setosa['PL'], 95)"
   ]
  },
  {
   "cell_type": "code",
   "execution_count": 9,
   "id": "0565b0a5",
   "metadata": {},
   "outputs": [
    {
     "data": {
      "text/plain": [
       "1.5"
      ]
     },
     "execution_count": 9,
     "metadata": {},
     "output_type": "execute_result"
    }
   ],
   "source": [
    "np.percentile(iris_setosa['PL'], 50)"
   ]
  },
  {
   "cell_type": "markdown",
   "id": "b3fbcc9a",
   "metadata": {},
   "source": [
    "# 3- Quartiles"
   ]
  },
  {
   "cell_type": "code",
   "execution_count": 10,
   "id": "edb97047",
   "metadata": {},
   "outputs": [
    {
     "name": "stdout",
     "output_type": "stream",
     "text": [
      "1.4\n",
      "1.5\n",
      "1.5750000000000002\n",
      "1.9\n"
     ]
    }
   ],
   "source": [
    "print(np.percentile(iris_setosa['PL'], 25))\n",
    "print(np.percentile(iris_setosa['PL'], 50))\n",
    "print(np.percentile(iris_setosa['PL'], 75))\n",
    "print(np.percentile(iris_setosa['PL'], 100))\n"
   ]
  },
  {
   "cell_type": "markdown",
   "id": "d3022290",
   "metadata": {},
   "source": [
    "# 4 - Interquartile Range"
   ]
  },
  {
   "cell_type": "code",
   "execution_count": 11,
   "id": "4be44b38",
   "metadata": {},
   "outputs": [],
   "source": [
    "# it is q3 - q1\n",
    "# means max quartile - min quartile"
   ]
  },
  {
   "cell_type": "code",
   "execution_count": 12,
   "id": "c75039c9",
   "metadata": {},
   "outputs": [
    {
     "name": "stdout",
     "output_type": "stream",
     "text": [
      "The IQR is:  0.17500000000000027\n"
     ]
    }
   ],
   "source": [
    "IQR = np.percentile(iris_setosa['PL'], 75) - np.percentile(iris_setosa['PL'], 25)\n",
    "print('The IQR is: ', IQR)"
   ]
  },
  {
   "cell_type": "markdown",
   "id": "e920d532",
   "metadata": {},
   "source": [
    "# 5- Variance"
   ]
  },
  {
   "cell_type": "code",
   "execution_count": 13,
   "id": "fb104856",
   "metadata": {},
   "outputs": [
    {
     "data": {
      "text/plain": [
       "0.02950400000000001"
      ]
     },
     "execution_count": 13,
     "metadata": {},
     "output_type": "execute_result"
    }
   ],
   "source": [
    "np.var(iris_setosa['PL'])"
   ]
  },
  {
   "cell_type": "code",
   "execution_count": 14,
   "id": "9e8d788d",
   "metadata": {},
   "outputs": [],
   "source": [
    "# The problem with variance is that it changes the unit of measurement by squaring"
   ]
  },
  {
   "cell_type": "markdown",
   "id": "3c3d20df",
   "metadata": {},
   "source": [
    "# 6 - Standard Deviation"
   ]
  },
  {
   "cell_type": "code",
   "execution_count": 16,
   "id": "c97143d2",
   "metadata": {},
   "outputs": [],
   "source": [
    "#it is the square root of variance"
   ]
  },
  {
   "cell_type": "code",
   "execution_count": 17,
   "id": "d37d526b",
   "metadata": {},
   "outputs": [
    {
     "data": {
      "text/plain": [
       "0.17176728442867115"
      ]
     },
     "execution_count": 17,
     "metadata": {},
     "output_type": "execute_result"
    }
   ],
   "source": [
    "np.std(iris_setosa['PL'])"
   ]
  },
  {
   "cell_type": "markdown",
   "id": "c21e0ad5",
   "metadata": {},
   "source": [
    "# 7 - Absolute median deviation"
   ]
  },
  {
   "cell_type": "code",
   "execution_count": 20,
   "id": "a6d1dabd",
   "metadata": {},
   "outputs": [],
   "source": [
    "arr = np.array([1,2,3,4,5,6,7,8,9])\n"
   ]
  },
  {
   "cell_type": "code",
   "execution_count": 26,
   "id": "f4318f9c",
   "metadata": {},
   "outputs": [
    {
     "data": {
      "text/plain": [
       "2.0"
      ]
     },
     "execution_count": 26,
     "metadata": {},
     "output_type": "execute_result"
    }
   ],
   "source": [
    "from statsmodels import robust\n",
    "robust.mad(arr, c=1)\n"
   ]
  },
  {
   "cell_type": "code",
   "execution_count": null,
   "id": "617e91c5",
   "metadata": {},
   "outputs": [],
   "source": []
  }
 ],
 "metadata": {
  "kernelspec": {
   "display_name": "Python 3 (ipykernel)",
   "language": "python",
   "name": "python3"
  },
  "language_info": {
   "codemirror_mode": {
    "name": "ipython",
    "version": 3
   },
   "file_extension": ".py",
   "mimetype": "text/x-python",
   "name": "python",
   "nbconvert_exporter": "python",
   "pygments_lexer": "ipython3",
   "version": "3.9.12"
  }
 },
 "nbformat": 4,
 "nbformat_minor": 5
}
